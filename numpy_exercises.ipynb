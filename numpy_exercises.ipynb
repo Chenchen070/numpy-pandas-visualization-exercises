{
 "cells": [
  {
   "cell_type": "code",
   "execution_count": 4,
   "id": "8cd254eb",
   "metadata": {},
   "outputs": [],
   "source": [
    "import numpy as np"
   ]
  },
  {
   "cell_type": "code",
   "execution_count": 2,
   "id": "b5bf657a",
   "metadata": {},
   "outputs": [],
   "source": [
    "a = np.array([4, 10, 12, 23, -2, -1, 0, 0, 0, -6, 3, -7])"
   ]
  },
  {
   "cell_type": "code",
   "execution_count": 6,
   "id": "afc07fc9",
   "metadata": {},
   "outputs": [],
   "source": [
    "- 1.How many negative numbers are there?"
   ]
  },
  {
   "cell_type": "code",
   "execution_count": 8,
   "id": "c5ee8534",
   "metadata": {},
   "outputs": [
    {
     "data": {
      "text/plain": [
       "array([-2, -1, -6, -7])"
      ]
     },
     "execution_count": 8,
     "metadata": {},
     "output_type": "execute_result"
    }
   ],
   "source": [
    "a[a < 0]"
   ]
  },
  {
   "cell_type": "code",
   "execution_count": 12,
   "id": "e4aa7468",
   "metadata": {},
   "outputs": [],
   "source": [
    "- 2. How many positive numbers are there?"
   ]
  },
  {
   "cell_type": "code",
   "execution_count": 13,
   "id": "4412b033",
   "metadata": {},
   "outputs": [
    {
     "data": {
      "text/plain": [
       "array([ 4, 10, 12, 23,  3])"
      ]
     },
     "execution_count": 13,
     "metadata": {},
     "output_type": "execute_result"
    }
   ],
   "source": [
    "a[a > 0]"
   ]
  },
  {
   "cell_type": "code",
   "execution_count": null,
   "id": "ee5f4f60",
   "metadata": {},
   "outputs": [],
   "source": [
    "- 3. How many even positive numbers are there?"
   ]
  },
  {
   "cell_type": "code",
   "execution_count": 15,
   "id": "3ceff11e",
   "metadata": {},
   "outputs": [
    {
     "data": {
      "text/plain": [
       "array([ 4, 10, 12])"
      ]
     },
     "execution_count": 15,
     "metadata": {},
     "output_type": "execute_result"
    }
   ],
   "source": [
    "a[(a > 0) & (a % 2 ==0)]"
   ]
  },
  {
   "cell_type": "code",
   "execution_count": null,
   "id": "fa7f6bd8",
   "metadata": {},
   "outputs": [],
   "source": [
    "-4. If you were to add 3 to each data point, how many positive numbers would there be?"
   ]
  },
  {
   "cell_type": "code",
   "execution_count": 22,
   "id": "1ca509fa",
   "metadata": {},
   "outputs": [],
   "source": [
    "x = a + 3"
   ]
  },
  {
   "cell_type": "code",
   "execution_count": 24,
   "id": "50d4f8e9",
   "metadata": {},
   "outputs": [
    {
     "data": {
      "text/plain": [
       "array([ 7, 13, 15, 26,  1,  2,  3,  3,  3,  6])"
      ]
     },
     "execution_count": 24,
     "metadata": {},
     "output_type": "execute_result"
    }
   ],
   "source": [
    "x[x > 0]"
   ]
  },
  {
   "cell_type": "code",
   "execution_count": null,
   "id": "12ccb916",
   "metadata": {},
   "outputs": [],
   "source": [
    "- 5. If you squared each number, what would the new mean and standard deviation be?"
   ]
  },
  {
   "cell_type": "code",
   "execution_count": 33,
   "id": "00822333",
   "metadata": {},
   "outputs": [
    {
     "data": {
      "text/plain": [
       "(74.0, 144.0243035046516)"
      ]
     },
     "execution_count": 33,
     "metadata": {},
     "output_type": "execute_result"
    }
   ],
   "source": [
    "y = a ** 2\n",
    "y.mean(),y.std()"
   ]
  },
  {
   "cell_type": "code",
   "execution_count": null,
   "id": "53212f6e",
   "metadata": {},
   "outputs": [],
   "source": [
    "- 6.A common statistical operation on a dataset is centering. This means to adjust the data such that the mean of the data is 0. This is done by subtracting the mean from each data point. Center the data set. See this link for more on centering."
   ]
  },
  {
   "cell_type": "code",
   "execution_count": 36,
   "id": "6807b1f5",
   "metadata": {},
   "outputs": [
    {
     "data": {
      "text/plain": [
       "array([  1.,   7.,   9.,  20.,  -5.,  -4.,  -3.,  -3.,  -3.,  -9.,   0.,\n",
       "       -10.])"
      ]
     },
     "execution_count": 36,
     "metadata": {},
     "output_type": "execute_result"
    }
   ],
   "source": [
    "a - a.mean()"
   ]
  },
  {
   "cell_type": "code",
   "execution_count": null,
   "id": "ba2132e8",
   "metadata": {},
   "outputs": [],
   "source": [
    "- 7.Calculate the z-score for each data point. Recall that the z-score is given by:"
   ]
  },
  {
   "cell_type": "code",
   "execution_count": 37,
   "id": "348ee1ba",
   "metadata": {},
   "outputs": [],
   "source": [
    "import scipy.stats as stats"
   ]
  },
  {
   "cell_type": "code",
   "execution_count": 39,
   "id": "8d1c88b7",
   "metadata": {},
   "outputs": [
    {
     "data": {
      "text/plain": [
       "array([ 0.12403473,  0.86824314,  1.11631261,  2.48069469, -0.62017367,\n",
       "       -0.49613894, -0.3721042 , -0.3721042 , -0.3721042 , -1.11631261,\n",
       "        0.        , -1.24034735])"
      ]
     },
     "execution_count": 39,
     "metadata": {},
     "output_type": "execute_result"
    }
   ],
   "source": [
    "stats.zscore(a)"
   ]
  },
  {
   "cell_type": "code",
   "execution_count": 40,
   "id": "77ec6617",
   "metadata": {},
   "outputs": [],
   "source": [
    "- 8. ## Setup 1\n",
    "a = [1, 2, 3, 4, 5, 6, 7, 8, 9, 10]"
   ]
  },
  {
   "cell_type": "code",
   "execution_count": 41,
   "id": "6ed3c8af",
   "metadata": {},
   "outputs": [
    {
     "data": {
      "text/plain": [
       "[1, 2, 3, 4, 5, 6, 7, 8, 9, 10]"
      ]
     },
     "execution_count": 41,
     "metadata": {},
     "output_type": "execute_result"
    }
   ],
   "source": [
    "# Exercise 1 - Make a variable called sum_of_a to hold the sum of all the numbers in above list"
   ]
  },
  {
   "cell_type": "code",
   "execution_count": 44,
   "id": "ecaaf0ec",
   "metadata": {},
   "outputs": [],
   "source": [
    "sum_of_a = sum(a)"
   ]
  },
  {
   "cell_type": "code",
   "execution_count": 45,
   "id": "3d4a8c6e",
   "metadata": {},
   "outputs": [
    {
     "data": {
      "text/plain": [
       "55"
      ]
     },
     "execution_count": 45,
     "metadata": {},
     "output_type": "execute_result"
    }
   ],
   "source": [
    "sum_of_a"
   ]
  },
  {
   "cell_type": "code",
   "execution_count": null,
   "id": "12b917d2",
   "metadata": {},
   "outputs": [],
   "source": [
    "# Exercise 2 - Make a variable named min_of_a to hold the minimum of all the numbers in the above list"
   ]
  },
  {
   "cell_type": "code",
   "execution_count": 46,
   "id": "47ac4d00",
   "metadata": {},
   "outputs": [
    {
     "data": {
      "text/plain": [
       "1"
      ]
     },
     "execution_count": 46,
     "metadata": {},
     "output_type": "execute_result"
    }
   ],
   "source": [
    "min_of_a = min(a)\n",
    "min_of_a"
   ]
  },
  {
   "cell_type": "code",
   "execution_count": null,
   "id": "20cfc0dc",
   "metadata": {},
   "outputs": [],
   "source": [
    "# Exercise 3 - Make a variable named max_of_a to hold the max number of all the numbers in the above list"
   ]
  },
  {
   "cell_type": "code",
   "execution_count": 47,
   "id": "d0dce1eb",
   "metadata": {},
   "outputs": [
    {
     "data": {
      "text/plain": [
       "10"
      ]
     },
     "execution_count": 47,
     "metadata": {},
     "output_type": "execute_result"
    }
   ],
   "source": [
    "max_of_a = max(a)\n",
    "max_of_a"
   ]
  },
  {
   "cell_type": "code",
   "execution_count": null,
   "id": "db0a1ad0",
   "metadata": {},
   "outputs": [],
   "source": [
    "# Exercise 4 - Make a variable named mean_of_a to hold the average of all the numbers in the above list"
   ]
  },
  {
   "cell_type": "code",
   "execution_count": 49,
   "id": "432d1658",
   "metadata": {},
   "outputs": [
    {
     "data": {
      "text/plain": [
       "5.5"
      ]
     },
     "execution_count": 49,
     "metadata": {},
     "output_type": "execute_result"
    }
   ],
   "source": [
    "mean_of_a = sum(a)/len(a)\n",
    "mean_of_a"
   ]
  },
  {
   "cell_type": "code",
   "execution_count": null,
   "id": "39c8a308",
   "metadata": {},
   "outputs": [],
   "source": [
    "# Exercise 5 - Make a variable named product_of_a to hold the product of multiplying all the numbers in the above list together"
   ]
  },
  {
   "cell_type": "code",
   "execution_count": 70,
   "id": "c1f6e899",
   "metadata": {},
   "outputs": [
    {
     "data": {
      "text/plain": [
       "3628800"
      ]
     },
     "execution_count": 70,
     "metadata": {},
     "output_type": "execute_result"
    }
   ],
   "source": [
    "product_of_a = np.product(a)\n",
    "product_of_a"
   ]
  },
  {
   "cell_type": "code",
   "execution_count": null,
   "id": "153022a1",
   "metadata": {},
   "outputs": [],
   "source": [
    "# Exercise 6 - Make a variable named squares_of_a. It should hold each number in a squared like [1, 4, 9, 16, 25...]"
   ]
  },
  {
   "cell_type": "code",
   "execution_count": 71,
   "id": "44cec5f9",
   "metadata": {},
   "outputs": [],
   "source": [
    "a = np.array([1, 2, 3, 4, 5, 6, 7, 8, 9, 10])"
   ]
  },
  {
   "cell_type": "code",
   "execution_count": 72,
   "id": "69db5a1c",
   "metadata": {},
   "outputs": [
    {
     "data": {
      "text/plain": [
       "array([  1,   4,   9,  16,  25,  36,  49,  64,  81, 100])"
      ]
     },
     "execution_count": 72,
     "metadata": {},
     "output_type": "execute_result"
    }
   ],
   "source": [
    "squares_of_a = a ** 2\n",
    "squares_of_a"
   ]
  },
  {
   "cell_type": "code",
   "execution_count": null,
   "id": "c93a249e",
   "metadata": {},
   "outputs": [],
   "source": [
    "# Exercise 7 - Make a variable named odds_in_a. It should hold only the odd numbers"
   ]
  },
  {
   "cell_type": "code",
   "execution_count": 74,
   "id": "4dab4c41",
   "metadata": {},
   "outputs": [
    {
     "data": {
      "text/plain": [
       "array([1, 3, 5, 7, 9])"
      ]
     },
     "execution_count": 74,
     "metadata": {},
     "output_type": "execute_result"
    }
   ],
   "source": [
    "odds_in_a = a[a % 2 != 0]\n",
    "odds_in_a"
   ]
  },
  {
   "cell_type": "code",
   "execution_count": null,
   "id": "ad2af052",
   "metadata": {},
   "outputs": [],
   "source": [
    "# Exercise 8 - Make a variable named evens_in_a. It should hold only the evens."
   ]
  },
  {
   "cell_type": "code",
   "execution_count": 75,
   "id": "e66e6b3f",
   "metadata": {},
   "outputs": [
    {
     "data": {
      "text/plain": [
       "array([ 2,  4,  6,  8, 10])"
      ]
     },
     "execution_count": 75,
     "metadata": {},
     "output_type": "execute_result"
    }
   ],
   "source": [
    "evens_in_a = a[a % 2 == 0]\n",
    "evens_in_a"
   ]
  },
  {
   "cell_type": "code",
   "execution_count": 83,
   "id": "fbb892e5",
   "metadata": {},
   "outputs": [
    {
     "ename": "SyntaxError",
     "evalue": "invalid syntax (856825896.py, line 1)",
     "output_type": "error",
     "traceback": [
      "\u001b[0;36m  Input \u001b[0;32mIn [83]\u001b[0;36m\u001b[0m\n\u001b[0;31m    -- setup 2: Consider what it would take to find the sum, min, max, average, sum, product, and list of squares for this list of two lists.\u001b[0m\n\u001b[0m             ^\u001b[0m\n\u001b[0;31mSyntaxError\u001b[0m\u001b[0;31m:\u001b[0m invalid syntax\n"
     ]
    }
   ],
   "source": [
    "-- setup 2: Consider what it would take to find the sum, min, max, average, sum, product, and list of squares for this list of two lists.\n",
    "b = [\n",
    "    [3, 4, 5],\n",
    "    [6, 7, 8]\n",
    "]"
   ]
  },
  {
   "cell_type": "code",
   "execution_count": 5,
   "id": "cbc2150b",
   "metadata": {},
   "outputs": [
    {
     "data": {
      "text/plain": [
       "array([[3, 4, 5],\n",
       "       [6, 7, 8]])"
      ]
     },
     "execution_count": 5,
     "metadata": {},
     "output_type": "execute_result"
    }
   ],
   "source": [
    "b = np.array([\n",
    "            [3, 4, 5],\n",
    "            [6, 7, 8]])\n",
    "b"
   ]
  },
  {
   "cell_type": "code",
   "execution_count": 88,
   "id": "91ca80d6",
   "metadata": {},
   "outputs": [
    {
     "data": {
      "text/plain": [
       "33"
      ]
     },
     "execution_count": 88,
     "metadata": {},
     "output_type": "execute_result"
    }
   ],
   "source": [
    "# Exercise 1 - refactor the following to use numpy. Use sum_of_b as the variable.\n",
    "sum_of_b = 0\n",
    "for row in b:\n",
    "    sum_of_b += sum(row)\n",
    "sum_of_b"
   ]
  },
  {
   "cell_type": "code",
   "execution_count": 90,
   "id": "1f157bdc",
   "metadata": {},
   "outputs": [
    {
     "data": {
      "text/plain": [
       "33"
      ]
     },
     "execution_count": 90,
     "metadata": {},
     "output_type": "execute_result"
    }
   ],
   "source": [
    "sum(sum(b))"
   ]
  },
  {
   "cell_type": "code",
   "execution_count": 11,
   "id": "00a64ced",
   "metadata": {},
   "outputs": [
    {
     "data": {
      "text/plain": [
       "33"
      ]
     },
     "execution_count": 11,
     "metadata": {},
     "output_type": "execute_result"
    }
   ],
   "source": [
    "b.sum()"
   ]
  },
  {
   "cell_type": "code",
   "execution_count": 7,
   "id": "77b466aa",
   "metadata": {},
   "outputs": [
    {
     "data": {
      "text/plain": [
       "3"
      ]
     },
     "execution_count": 7,
     "metadata": {},
     "output_type": "execute_result"
    }
   ],
   "source": [
    "# Exercise 2 - refactor the following to use numpy. \n",
    "min_of_b = min(b[0]) if min(b[0]) <= min(b[1]) else min(b[1])\n",
    "min_of_b"
   ]
  },
  {
   "cell_type": "code",
   "execution_count": 10,
   "id": "2289c8ed",
   "metadata": {},
   "outputs": [
    {
     "data": {
      "text/plain": [
       "3"
      ]
     },
     "execution_count": 10,
     "metadata": {},
     "output_type": "execute_result"
    }
   ],
   "source": [
    "b.min()"
   ]
  },
  {
   "cell_type": "code",
   "execution_count": 13,
   "id": "46e0d343",
   "metadata": {},
   "outputs": [
    {
     "data": {
      "text/plain": [
       "8"
      ]
     },
     "execution_count": 13,
     "metadata": {},
     "output_type": "execute_result"
    }
   ],
   "source": [
    "# Exercise 3 - refactor the following maximum calculation to find the answer with numpy.\n",
    "max_of_b = max(b[0]) if max(b[0]) >= max(b[1]) else max(b[1])\n",
    "max_of_b"
   ]
  },
  {
   "cell_type": "code",
   "execution_count": 14,
   "id": "85e0fba7",
   "metadata": {},
   "outputs": [
    {
     "data": {
      "text/plain": [
       "8"
      ]
     },
     "execution_count": 14,
     "metadata": {},
     "output_type": "execute_result"
    }
   ],
   "source": [
    "b.max()"
   ]
  },
  {
   "cell_type": "code",
   "execution_count": 15,
   "id": "630f80d3",
   "metadata": {},
   "outputs": [
    {
     "data": {
      "text/plain": [
       "5.5"
      ]
     },
     "execution_count": 15,
     "metadata": {},
     "output_type": "execute_result"
    }
   ],
   "source": [
    "# Exercise 4 - refactor the following using numpy to find the mean of b\n",
    "mean_of_b = (sum(b[0]) + sum(b[1])) / (len(b[0]) + len(b[1]))\n",
    "mean_of_b"
   ]
  },
  {
   "cell_type": "code",
   "execution_count": 16,
   "id": "a1e147b6",
   "metadata": {},
   "outputs": [
    {
     "data": {
      "text/plain": [
       "5.5"
      ]
     },
     "execution_count": 16,
     "metadata": {},
     "output_type": "execute_result"
    }
   ],
   "source": [
    "b.mean()"
   ]
  },
  {
   "cell_type": "code",
   "execution_count": 18,
   "id": "d0a4a5f9",
   "metadata": {},
   "outputs": [
    {
     "data": {
      "text/plain": [
       "20160"
      ]
     },
     "execution_count": 18,
     "metadata": {},
     "output_type": "execute_result"
    }
   ],
   "source": [
    "# Exercise 5 - refactor the following to use numpy for calculating the product of all numbers multiplied together.\n",
    "product_of_b = 1\n",
    "for row in b:\n",
    "    for number in row:\n",
    "        product_of_b *= number\n",
    "product_of_b"
   ]
  },
  {
   "cell_type": "code",
   "execution_count": 19,
   "id": "a1b3d216",
   "metadata": {},
   "outputs": [
    {
     "data": {
      "text/plain": [
       "20160"
      ]
     },
     "execution_count": 19,
     "metadata": {},
     "output_type": "execute_result"
    }
   ],
   "source": [
    "b.prod()"
   ]
  },
  {
   "cell_type": "code",
   "execution_count": 20,
   "id": "98b1544c",
   "metadata": {},
   "outputs": [
    {
     "data": {
      "text/plain": [
       "[9, 16, 25, 36, 49, 64]"
      ]
     },
     "execution_count": 20,
     "metadata": {},
     "output_type": "execute_result"
    }
   ],
   "source": [
    "# Exercise 6 - refactor the following to use numpy to find the list of squares \n",
    "squares_of_b = []\n",
    "for row in b:\n",
    "    for number in row:\n",
    "        squares_of_b.append(number**2)\n",
    "squares_of_b"
   ]
  },
  {
   "cell_type": "code",
   "execution_count": 35,
   "id": "1bef02aa",
   "metadata": {},
   "outputs": [
    {
     "data": {
      "text/plain": [
       "array([[ 9, 16, 25],\n",
       "       [36, 49, 64]])"
      ]
     },
     "execution_count": 35,
     "metadata": {},
     "output_type": "execute_result"
    }
   ],
   "source": [
    "b ** 2"
   ]
  },
  {
   "cell_type": "code",
   "execution_count": 36,
   "id": "5fe1241e",
   "metadata": {},
   "outputs": [
    {
     "data": {
      "text/plain": [
       "[3, 5, 7]"
      ]
     },
     "execution_count": 36,
     "metadata": {},
     "output_type": "execute_result"
    }
   ],
   "source": [
    "# Exercise 7 - refactor using numpy to determine the odds_in_b\n",
    "odds_in_b = []\n",
    "for row in b:\n",
    "    for number in row:\n",
    "        if(number % 2 != 0):\n",
    "            odds_in_b.append(number)\n",
    "odds_in_b"
   ]
  },
  {
   "cell_type": "code",
   "execution_count": 37,
   "id": "07d9ed28",
   "metadata": {},
   "outputs": [
    {
     "data": {
      "text/plain": [
       "array([3, 5, 7])"
      ]
     },
     "execution_count": 37,
     "metadata": {},
     "output_type": "execute_result"
    }
   ],
   "source": [
    "b[b % 2 != 0]"
   ]
  },
  {
   "cell_type": "code",
   "execution_count": 38,
   "id": "fb024399",
   "metadata": {},
   "outputs": [
    {
     "data": {
      "text/plain": [
       "[4, 6, 8]"
      ]
     },
     "execution_count": 38,
     "metadata": {},
     "output_type": "execute_result"
    }
   ],
   "source": [
    "# Exercise 8 - refactor the following to use numpy to filter only the even numbers\n",
    "evens_in_b = []\n",
    "for row in b:\n",
    "    for number in row:\n",
    "        if(number % 2 == 0):\n",
    "            evens_in_b.append(number)\n",
    "evens_in_b"
   ]
  },
  {
   "cell_type": "code",
   "execution_count": 39,
   "id": "0f3b1f10",
   "metadata": {},
   "outputs": [
    {
     "data": {
      "text/plain": [
       "array([4, 6, 8])"
      ]
     },
     "execution_count": 39,
     "metadata": {},
     "output_type": "execute_result"
    }
   ],
   "source": [
    "b[b % 2 == 0]"
   ]
  },
  {
   "cell_type": "code",
   "execution_count": null,
   "id": "3af5ac87",
   "metadata": {},
   "outputs": [],
   "source": [
    "# Exercise 9 - print out the shape of the array b."
   ]
  },
  {
   "cell_type": "code",
   "execution_count": 41,
   "id": "9246a637",
   "metadata": {},
   "outputs": [
    {
     "data": {
      "text/plain": [
       "(2, 3)"
      ]
     },
     "execution_count": 41,
     "metadata": {},
     "output_type": "execute_result"
    }
   ],
   "source": [
    "b.shape"
   ]
  },
  {
   "cell_type": "code",
   "execution_count": null,
   "id": "d6880fbd",
   "metadata": {},
   "outputs": [],
   "source": [
    "# Exercise 10 - transpose the array b."
   ]
  },
  {
   "cell_type": "code",
   "execution_count": 44,
   "id": "48b87506",
   "metadata": {},
   "outputs": [
    {
     "data": {
      "text/plain": [
       "array([[3, 6],\n",
       "       [4, 7],\n",
       "       [5, 8]])"
      ]
     },
     "execution_count": 44,
     "metadata": {},
     "output_type": "execute_result"
    }
   ],
   "source": [
    "np.transpose(b)"
   ]
  },
  {
   "cell_type": "code",
   "execution_count": null,
   "id": "f2566181",
   "metadata": {},
   "outputs": [],
   "source": [
    "# Exercise 11 - reshape the array b to be a single list of 6 numbers. (1 x 6)"
   ]
  },
  {
   "cell_type": "code",
   "execution_count": 47,
   "id": "756afaea",
   "metadata": {},
   "outputs": [
    {
     "data": {
      "text/plain": [
       "array([[3, 4, 5, 6, 7, 8]])"
      ]
     },
     "execution_count": 47,
     "metadata": {},
     "output_type": "execute_result"
    }
   ],
   "source": [
    "b.reshape(1,6)"
   ]
  },
  {
   "cell_type": "code",
   "execution_count": null,
   "id": "fecd3399",
   "metadata": {},
   "outputs": [],
   "source": [
    "# Exercise 12 - reshape the array b to be a list of 6 lists, each containing only 1 number (6 x 1)"
   ]
  },
  {
   "cell_type": "code",
   "execution_count": 48,
   "id": "280e25e1",
   "metadata": {},
   "outputs": [
    {
     "data": {
      "text/plain": [
       "array([[3],\n",
       "       [4],\n",
       "       [5],\n",
       "       [6],\n",
       "       [7],\n",
       "       [8]])"
      ]
     },
     "execution_count": 48,
     "metadata": {},
     "output_type": "execute_result"
    }
   ],
   "source": [
    "b.reshape(6,1)"
   ]
  },
  {
   "cell_type": "code",
   "execution_count": 49,
   "id": "0ccf844d",
   "metadata": {},
   "outputs": [],
   "source": [
    "## Setup 3\n",
    "c = [\n",
    "    [1, 2, 3],\n",
    "    [4, 5, 6],\n",
    "    [7, 8, 9]\n",
    "]"
   ]
  },
  {
   "cell_type": "code",
   "execution_count": 50,
   "id": "84113be0",
   "metadata": {},
   "outputs": [],
   "source": [
    "c = np.array([\n",
    "    [1, 2, 3],\n",
    "    [4, 5, 6],\n",
    "    [7, 8, 9]\n",
    "])"
   ]
  },
  {
   "cell_type": "code",
   "execution_count": 57,
   "id": "988f0a00",
   "metadata": {},
   "outputs": [
    {
     "data": {
      "text/plain": [
       "(1, 9, 45, 362880)"
      ]
     },
     "execution_count": 57,
     "metadata": {},
     "output_type": "execute_result"
    }
   ],
   "source": [
    "# Exercise 1 - Find the min, max, sum, and product of c.\n",
    "c.min() , c.max() , c.sum() , c.prod()"
   ]
  },
  {
   "cell_type": "code",
   "execution_count": null,
   "id": "a136227a",
   "metadata": {},
   "outputs": [],
   "source": [
    "# Exercise 2 - Determine the standard deviation of c."
   ]
  },
  {
   "cell_type": "code",
   "execution_count": 58,
   "id": "b00baafb",
   "metadata": {},
   "outputs": [
    {
     "data": {
      "text/plain": [
       "2.581988897471611"
      ]
     },
     "execution_count": 58,
     "metadata": {},
     "output_type": "execute_result"
    }
   ],
   "source": [
    "c.std()"
   ]
  },
  {
   "cell_type": "code",
   "execution_count": null,
   "id": "410ba068",
   "metadata": {},
   "outputs": [],
   "source": [
    "# Exercise 3 - Determine the variance of c."
   ]
  },
  {
   "cell_type": "code",
   "execution_count": 59,
   "id": "c60598b4",
   "metadata": {},
   "outputs": [
    {
     "data": {
      "text/plain": [
       "6.666666666666667"
      ]
     },
     "execution_count": 59,
     "metadata": {},
     "output_type": "execute_result"
    }
   ],
   "source": [
    "c.var()"
   ]
  },
  {
   "cell_type": "code",
   "execution_count": null,
   "id": "e51824db",
   "metadata": {},
   "outputs": [],
   "source": [
    "# Exercise 4 - Print out the shape of the array c"
   ]
  },
  {
   "cell_type": "code",
   "execution_count": 60,
   "id": "618aa97c",
   "metadata": {},
   "outputs": [
    {
     "data": {
      "text/plain": [
       "(3, 3)"
      ]
     },
     "execution_count": 60,
     "metadata": {},
     "output_type": "execute_result"
    }
   ],
   "source": [
    "c.shape"
   ]
  },
  {
   "cell_type": "code",
   "execution_count": null,
   "id": "d6baee80",
   "metadata": {},
   "outputs": [],
   "source": [
    "# Exercise 5 - Transpose c and print out transposed result."
   ]
  },
  {
   "cell_type": "code",
   "execution_count": 62,
   "id": "9db4b610",
   "metadata": {},
   "outputs": [
    {
     "data": {
      "text/plain": [
       "array([[1, 4, 7],\n",
       "       [2, 5, 8],\n",
       "       [3, 6, 9]])"
      ]
     },
     "execution_count": 62,
     "metadata": {},
     "output_type": "execute_result"
    }
   ],
   "source": [
    "c.transpose()"
   ]
  },
  {
   "cell_type": "code",
   "execution_count": null,
   "id": "83012a5e",
   "metadata": {},
   "outputs": [],
   "source": [
    "# Exercise 6 - Get the dot product of the array c with c. "
   ]
  },
  {
   "cell_type": "code",
   "execution_count": 67,
   "id": "3145a385",
   "metadata": {},
   "outputs": [
    {
     "data": {
      "text/plain": [
       "array([[ 30,  36,  42],\n",
       "       [ 66,  81,  96],\n",
       "       [102, 126, 150]])"
      ]
     },
     "execution_count": 67,
     "metadata": {},
     "output_type": "execute_result"
    }
   ],
   "source": [
    "c.dot(c)"
   ]
  },
  {
   "cell_type": "code",
   "execution_count": null,
   "id": "27e2d0ac",
   "metadata": {},
   "outputs": [],
   "source": [
    "# Exercise 7 - Write the code necessary to sum up the result of c times c transposed. Answer should be 261"
   ]
  },
  {
   "cell_type": "code",
   "execution_count": 101,
   "id": "ed3fad76",
   "metadata": {},
   "outputs": [
    {
     "data": {
      "text/plain": [
       "261"
      ]
     },
     "execution_count": 101,
     "metadata": {},
     "output_type": "execute_result"
    }
   ],
   "source": [
    "(c * c.transpose()).sum()"
   ]
  },
  {
   "cell_type": "code",
   "execution_count": null,
   "id": "38248c80",
   "metadata": {},
   "outputs": [],
   "source": [
    "# Exercise 8 - Write the code necessary to determine the product of c times c transposed. Answer should be 131681894400."
   ]
  },
  {
   "cell_type": "code",
   "execution_count": 102,
   "id": "3e2e4f76",
   "metadata": {},
   "outputs": [
    {
     "data": {
      "text/plain": [
       "131681894400"
      ]
     },
     "execution_count": 102,
     "metadata": {},
     "output_type": "execute_result"
    }
   ],
   "source": [
    "(c * c.transpose()).prod()"
   ]
  },
  {
   "cell_type": "code",
   "execution_count": null,
   "id": "c3db5278",
   "metadata": {},
   "outputs": [],
   "source": [
    "## Setup 4\n",
    "d = [\n",
    "    [90, 30, 45, 0, 120, 180],\n",
    "    [45, -90, -30, 270, 90, 0],\n",
    "    [60, 45, -45, 90, -45, 180]\n",
    "]"
   ]
  },
  {
   "cell_type": "code",
   "execution_count": 77,
   "id": "01dba20a",
   "metadata": {},
   "outputs": [],
   "source": [
    "d = np.array([\n",
    "    [90, 30, 45, 0, 120, 180],\n",
    "    [45, -90, -30, 270, 90, 0],\n",
    "    [60, 45, -45, 90, -45, 180]\n",
    "])"
   ]
  },
  {
   "cell_type": "code",
   "execution_count": null,
   "id": "5dacabb8",
   "metadata": {},
   "outputs": [],
   "source": [
    "# Exercise 1 - Find the sine of all the numbers in d"
   ]
  },
  {
   "cell_type": "code",
   "execution_count": 84,
   "id": "2ead696d",
   "metadata": {},
   "outputs": [
    {
     "data": {
      "text/plain": [
       "array([[ 0.89399666, -0.98803162,  0.85090352,  0.        ,  0.58061118,\n",
       "        -0.80115264],\n",
       "       [ 0.85090352, -0.89399666,  0.98803162, -0.17604595,  0.89399666,\n",
       "         0.        ],\n",
       "       [-0.30481062,  0.85090352, -0.85090352,  0.89399666, -0.85090352,\n",
       "        -0.80115264]])"
      ]
     },
     "execution_count": 84,
     "metadata": {},
     "output_type": "execute_result"
    }
   ],
   "source": [
    "np.sin(d)"
   ]
  },
  {
   "cell_type": "code",
   "execution_count": null,
   "id": "1978748d",
   "metadata": {},
   "outputs": [],
   "source": [
    "# Exercise 2 - Find the cosine of all the numbers in d"
   ]
  },
  {
   "cell_type": "code",
   "execution_count": 87,
   "id": "033b65ad",
   "metadata": {},
   "outputs": [
    {
     "data": {
      "text/plain": [
       "array([[-0.44807362,  0.15425145,  0.52532199,  1.        ,  0.81418097,\n",
       "        -0.59846007],\n",
       "       [ 0.52532199, -0.44807362,  0.15425145,  0.98438195, -0.44807362,\n",
       "         1.        ],\n",
       "       [-0.95241298,  0.52532199,  0.52532199, -0.44807362,  0.52532199,\n",
       "        -0.59846007]])"
      ]
     },
     "execution_count": 87,
     "metadata": {},
     "output_type": "execute_result"
    }
   ],
   "source": [
    "np.cos(d)"
   ]
  },
  {
   "cell_type": "code",
   "execution_count": null,
   "id": "ffd2b443",
   "metadata": {},
   "outputs": [],
   "source": [
    "# Exercise 3 - Find the tangent of all the numbers in d"
   ]
  },
  {
   "cell_type": "code",
   "execution_count": 89,
   "id": "3fdae214",
   "metadata": {},
   "outputs": [
    {
     "data": {
      "text/plain": [
       "array([[-1.99520041, -6.4053312 ,  1.61977519,  0.        ,  0.71312301,\n",
       "         1.33869021],\n",
       "       [ 1.61977519,  1.99520041,  6.4053312 , -0.17883906, -1.99520041,\n",
       "         0.        ],\n",
       "       [ 0.32004039,  1.61977519, -1.61977519, -1.99520041, -1.61977519,\n",
       "         1.33869021]])"
      ]
     },
     "execution_count": 89,
     "metadata": {},
     "output_type": "execute_result"
    }
   ],
   "source": [
    "np.tan(d)"
   ]
  },
  {
   "cell_type": "code",
   "execution_count": null,
   "id": "612b2039",
   "metadata": {},
   "outputs": [],
   "source": [
    "# Exercise 4 - Find all the negative numbers in d"
   ]
  },
  {
   "cell_type": "code",
   "execution_count": 90,
   "id": "80b69625",
   "metadata": {},
   "outputs": [
    {
     "data": {
      "text/plain": [
       "array([-90, -30, -45, -45])"
      ]
     },
     "execution_count": 90,
     "metadata": {},
     "output_type": "execute_result"
    }
   ],
   "source": [
    "d[d < 0]"
   ]
  },
  {
   "cell_type": "code",
   "execution_count": null,
   "id": "6f976173",
   "metadata": {},
   "outputs": [],
   "source": [
    "# Exercise 5 - Find all the positive numbers in d"
   ]
  },
  {
   "cell_type": "code",
   "execution_count": 91,
   "id": "04bbff9c",
   "metadata": {},
   "outputs": [
    {
     "data": {
      "text/plain": [
       "array([ 90,  30,  45, 120, 180,  45, 270,  90,  60,  45,  90, 180])"
      ]
     },
     "execution_count": 91,
     "metadata": {},
     "output_type": "execute_result"
    }
   ],
   "source": [
    "d[d > 0]"
   ]
  },
  {
   "cell_type": "code",
   "execution_count": null,
   "id": "78cb6ac2",
   "metadata": {},
   "outputs": [],
   "source": [
    "# Exercise 6 - Return an array of only the unique numbers in d."
   ]
  },
  {
   "cell_type": "code",
   "execution_count": 94,
   "id": "984cc3e1",
   "metadata": {},
   "outputs": [
    {
     "data": {
      "text/plain": [
       "array([-90, -45, -30,   0,  30,  45,  60,  90, 120, 180, 270])"
      ]
     },
     "execution_count": 94,
     "metadata": {},
     "output_type": "execute_result"
    }
   ],
   "source": [
    "np.unique(d)"
   ]
  },
  {
   "cell_type": "code",
   "execution_count": null,
   "id": "c0a6a95e",
   "metadata": {},
   "outputs": [],
   "source": [
    "# Exercise 7 - Determine how many unique numbers there are in d."
   ]
  },
  {
   "cell_type": "code",
   "execution_count": 95,
   "id": "edb748a3",
   "metadata": {},
   "outputs": [
    {
     "data": {
      "text/plain": [
       "11"
      ]
     },
     "execution_count": 95,
     "metadata": {},
     "output_type": "execute_result"
    }
   ],
   "source": [
    "len(np.unique(d))"
   ]
  },
  {
   "cell_type": "code",
   "execution_count": null,
   "id": "35cbde56",
   "metadata": {},
   "outputs": [],
   "source": [
    "# Exercise 8 - Print out the shape of d."
   ]
  },
  {
   "cell_type": "code",
   "execution_count": 96,
   "id": "93f02e2d",
   "metadata": {},
   "outputs": [
    {
     "data": {
      "text/plain": [
       "(3, 6)"
      ]
     },
     "execution_count": 96,
     "metadata": {},
     "output_type": "execute_result"
    }
   ],
   "source": [
    "d.shape"
   ]
  },
  {
   "cell_type": "code",
   "execution_count": null,
   "id": "2896d5d8",
   "metadata": {},
   "outputs": [],
   "source": [
    "# Exercise 9 - Transpose and then print out the shape of d."
   ]
  },
  {
   "cell_type": "code",
   "execution_count": 98,
   "id": "e6c890cc",
   "metadata": {},
   "outputs": [
    {
     "data": {
      "text/plain": [
       "array([[ 90,  45,  60],\n",
       "       [ 30, -90,  45],\n",
       "       [ 45, -30, -45],\n",
       "       [  0, 270,  90],\n",
       "       [120,  90, -45],\n",
       "       [180,   0, 180]])"
      ]
     },
     "execution_count": 98,
     "metadata": {},
     "output_type": "execute_result"
    }
   ],
   "source": [
    "d.transpose()"
   ]
  },
  {
   "cell_type": "code",
   "execution_count": null,
   "id": "a354f65b",
   "metadata": {},
   "outputs": [],
   "source": [
    "# Exercise 10 - Reshape d into an array of 9 x 2"
   ]
  },
  {
   "cell_type": "code",
   "execution_count": 99,
   "id": "771baaeb",
   "metadata": {},
   "outputs": [
    {
     "data": {
      "text/plain": [
       "array([[ 90,  30],\n",
       "       [ 45,   0],\n",
       "       [120, 180],\n",
       "       [ 45, -90],\n",
       "       [-30, 270],\n",
       "       [ 90,   0],\n",
       "       [ 60,  45],\n",
       "       [-45,  90],\n",
       "       [-45, 180]])"
      ]
     },
     "execution_count": 99,
     "metadata": {},
     "output_type": "execute_result"
    }
   ],
   "source": [
    "d.reshape(9,2)"
   ]
  },
  {
   "cell_type": "code",
   "execution_count": null,
   "id": "e23c5881",
   "metadata": {},
   "outputs": [],
   "source": []
  }
 ],
 "metadata": {
  "kernelspec": {
   "display_name": "Python 3 (ipykernel)",
   "language": "python",
   "name": "python3"
  },
  "language_info": {
   "codemirror_mode": {
    "name": "ipython",
    "version": 3
   },
   "file_extension": ".py",
   "mimetype": "text/x-python",
   "name": "python",
   "nbconvert_exporter": "python",
   "pygments_lexer": "ipython3",
   "version": "3.9.12"
  }
 },
 "nbformat": 4,
 "nbformat_minor": 5
}
